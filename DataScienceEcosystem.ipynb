{
 "cells": [
  {
   "cell_type": "markdown",
   "id": "9b2e92d4-177f-4b47-b9da-306b8e902021",
   "metadata": {},
   "source": [
    "# Data Science Tools and Ecosystem\n"
   ]
  },
  {
   "cell_type": "markdown",
   "id": "86f0ac14-3646-4f19-a3af-fee9173629fa",
   "metadata": {},
   "source": [
    "## Introduction\n",
    "This notebook provides an overview of the tools and ecosystems commonly used in Data Science. It will cover popular languages, libraries, and tools, as well as include examples of basic arithmetic operations.\n"
   ]
  },
  {
   "cell_type": "markdown",
   "id": "73f74e46-e0e8-4139-861d-0729e06ecdac",
   "metadata": {
    "tags": []
   },
   "source": [
    "## Data Science Languages\n",
    "Some of the popular languages that Data Scientists use are:\n",
    "1. Python\n",
    "2. R\n",
    "3. SQL\n",
    "4. Julia\n",
    "5. Scala\n"
   ]
  },
  {
   "cell_type": "markdown",
   "id": "a5d7e8ee-1585-4c3b-afb4-188a7554fa83",
   "metadata": {},
   "source": [
    "## Data Science Libraries\n",
    "Some of the commonly used libraries in Data Science include:\n",
    "1. NumPy\n",
    "2. Pandas\n",
    "3. Matplotlib\n",
    "4. Scikit-learn\n",
    "5. TensorFlow\n"
   ]
  },
  {
   "cell_type": "markdown",
   "id": "aaa2336b-3156-4785-b1e0-bcfa1be6fe6c",
   "metadata": {},
   "source": [
    "## Data Science Tools\n",
    "| Data Science Tools     | \n",
    "|------------------------|\n",
    "| Jupyter Notebook       |\n",
    "| RStudio                |\n",
    "| Apache Zeppelin        |\n"
   ]
  },
  {
   "cell_type": "markdown",
   "id": "f279dc2f-5503-49ef-842d-162a8baa04b5",
   "metadata": {},
   "source": [
    "## Arithmetic Expressions Examples\n",
    "In this section, we will demonstrate basic arithmetic operations in Python.\n"
   ]
  },
  {
   "cell_type": "code",
   "execution_count": 4,
   "id": "dbc81d14-8e71-426d-ac6e-27303f369dee",
   "metadata": {
    "tags": []
   },
   "outputs": [
    {
     "data": {
      "text/plain": [
       "38"
      ]
     },
     "execution_count": 4,
     "metadata": {},
     "output_type": "execute_result"
    }
   ],
   "source": [
    "# Multiply two numbers and then add another number\n",
    "result = (5 * 7) + 3\n",
    "result\n"
   ]
  },
  {
   "cell_type": "code",
   "execution_count": 5,
   "id": "dfb99a66-3983-406a-a577-672f65029c0d",
   "metadata": {
    "tags": []
   },
   "outputs": [
    {
     "data": {
      "text/plain": [
       "3.3333333333333335"
      ]
     },
     "execution_count": 5,
     "metadata": {},
     "output_type": "execute_result"
    }
   ],
   "source": [
    "# Convert minutes to hours\n",
    "minutes = 200\n",
    "hours = minutes / 60\n",
    "hours\n"
   ]
  },
  {
   "cell_type": "markdown",
   "id": "e43f2ace-3b30-41f9-b964-cb835cf7f4c7",
   "metadata": {},
   "source": [
    "## Objectives\n",
    "- List popular languages for Data Science\n",
    "- Identify key libraries used in Data Science\n",
    "- Demonstrate basic arithmetic operations in Python\n",
    "- List common tools used in Data Science\n"
   ]
  },
  {
   "cell_type": "markdown",
   "id": "80856c8d-fee0-4bd4-9d58-d7e642f8dfdf",
   "metadata": {},
   "source": [
    "## Author\n",
    "Muhammad Shahzaib\n"
   ]
  },
  {
   "cell_type": "code",
   "execution_count": null,
   "id": "4a7f8295-1822-407c-9dcb-0098c8189132",
   "metadata": {},
   "outputs": [],
   "source": []
  }
 ],
 "metadata": {
  "kernelspec": {
   "display_name": "Python",
   "language": "python",
   "name": "conda-env-python-py"
  },
  "language_info": {
   "codemirror_mode": {
    "name": "ipython",
    "version": 3
   },
   "file_extension": ".py",
   "mimetype": "text/x-python",
   "name": "python",
   "nbconvert_exporter": "python",
   "pygments_lexer": "ipython3",
   "version": "3.7.12"
  }
 },
 "nbformat": 4,
 "nbformat_minor": 5
}
